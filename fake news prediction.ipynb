{
  "cells": [
    {
      "cell_type": "markdown",
      "source": [
        "#questions "
      ],
      "metadata": {
        "id": "HnZPElDsoNQG"
      }
    },
    {
      "cell_type": "markdown",
      "source": [
        "#Define the problem:\n",
        "the problem is how predict the label of the text or post if is fake news or not\n",
        "\n",
        "\n",
        "#What is the input?\n",
        "the input is text that has a about 60000 rows have fake news and right news in addition to some injected noise needed to be cleaned\n",
        "\n",
        "\n",
        "#What is the output?\n",
        "predict the label of the news if they are fake news or True news\n",
        "\n",
        "\n",
        "#What data mining function is required?\n",
        "classification problem\n",
        "\n",
        "\n",
        "#What could be the challenges?\n",
        "the challenges are to get a cleaned text data by Preprocessing techniques in NLP to extract a pure sentence to predict correctly and choose best classifier for this mission.\n",
        "\n",
        "\n",
        "#What is the impact?\n",
        "detect fake news to try to stop spreading it.\n",
        "\n",
        "\n",
        "#What is an ideal solution?\n",
        "getting high accuracy for predict which fake or true news,and which model perfect to train input text (NLP or text classification) in this proplem the best model is logestic regresion according to my trials\n",
        "\n",
        "\n",
        "#What is the difference between Character n-gram and Word n-gram? Which one tends to suffer more from the OOV issue?\n",
        "\n",
        "1- Character n-grams and word n-grams are two types of language models used in natural language processing applications.\n",
        "In word n-grams, the text is split into sequences of words of length n.\n",
        "In character n-grams, the text is split into sequences of characters of length n.\n",
        "\n",
        "2-On the other hand, word n-grams tend to suffer more from the OOV issue because they rely on exact word matches. If the model encounters a word that it has not seen before, it cannot generate a meaningful representation for it, and the model's performance may suffer as a result.\n",
        "\n",
        "\n",
        "#What is the difference between stop word removal and stemming? Are these techniques language-dependent?\n",
        "\n",
        "1-Stop word removal involves removing common words that don't carry much meaning, such as \"the\", \"a\", \"an\", \"and\", \"is\", \"of\", etc., from the text before further processing. The rationale behind this technique is that these words don't contribute much to the meaning of a sentence and can be safely removed without affecting the overall understanding of the text.\n",
        "on the other hand, stemming, on the other hand, involves reducing words to their base or root form, by removing suffixes and prefixes. For example, the words \"running\", \"runs\", and \"ran\" would all be reduced to \"run\". The aim of stemming is to reduce the dimensionality of the feature space and to group together words that have similar meanings.\n",
        "\n",
        "2-yes, both stop word removal and stemming are language-dependent techniques. Stop words can vary between languages, as different languages have different sets of common words that can be safely removed. Similarly, the rules for stemming can vary between languages, as different languages have different morphological structures.\n",
        "\n",
        "\n",
        "#Is tokenization techniques language dependent? Why?\n",
        "yes,  tokenization techniques are language dependent because they need to take into account the specific rules and patterns of each language to accurately split text into individual tokens. This requires an understanding of the linguistic structure and conventions of each language, and the development of language-specific algorithms and tools to tokenize text effectively.\n",
        "\n",
        "\n",
        "#What is the difference between count vectorizer and tf-idf vectorizer? Would it be feasible to use all possible n-grams? If not, how should you select them?\n",
        "Count vectorizer creates a matrix where each row represents a document and each column represents a term in the vocabulary. The matrix contains the count of how many times each term appears in each document. this approach doesn't take into account the relative importance of each term within the document or across the corpus. TF-IDF vectorizer, on the other hand, creates a matrix where each row represents a document and each column represents a term in the vocabulary. The matrix contains the TF-IDF score of each term in each document, which is a measure of the term's importance within the document and across the corpus.\n",
        "\n",
        "In terms of selecting n-grams, it is not feasible to use all possible n-grams, especially for larger values of n, as this would result in a very high-dimensional feature space and may lead to overfitting. Instead, a subset of n-grams can be selected based on their frequency and relevance to the task at hand."
      ],
      "metadata": {
        "id": "faPv0fBwoUB2"
      }
    },
    {
      "cell_type": "markdown",
      "source": [
        "#preprocessing and visualization"
      ],
      "metadata": {
        "id": "UEEtXk35wBlK"
      }
    },
    {
      "cell_type": "code",
      "execution_count": null,
      "metadata": {
        "id": "losjlDvYvtaY",
        "outputId": "3525b167-98fa-44cb-a798-fff8f343d9a2"
      },
      "outputs": [
        {
          "name": "stdout",
          "output_type": "stream",
          "text": [
            "Requirement already satisfied: xgboost in c:\\programdata\\anaconda3\\lib\\site-packages (1.7.5)\n",
            "Requirement already satisfied: scipy in c:\\programdata\\anaconda3\\lib\\site-packages (from xgboost) (1.5.2)\n",
            "Requirement already satisfied: numpy in c:\\programdata\\anaconda3\\lib\\site-packages (from xgboost) (1.19.2)\n",
            "Note: you may need to restart the kernel to use updated packages.\n"
          ]
        }
      ],
      "source": [
        "pip install xgboost"
      ]
    },
    {
      "cell_type": "code",
      "execution_count": null,
      "metadata": {
        "id": "dCCGAfBavtac",
        "outputId": "de024ce1-df41-4133-9994-f0911628cc8b"
      },
      "outputs": [
        {
          "name": "stdout",
          "output_type": "stream",
          "text": [
            "Requirement already satisfied: scikit-optimize in c:\\programdata\\anaconda3\\lib\\site-packages (0.9.0)\n",
            "Requirement already satisfied: pyaml>=16.9 in c:\\programdata\\anaconda3\\lib\\site-packages (from scikit-optimize) (21.10.1)\n",
            "Requirement already satisfied: numpy>=1.13.3 in c:\\programdata\\anaconda3\\lib\\site-packages (from scikit-optimize) (1.19.2)\n",
            "Requirement already satisfied: scikit-learn>=0.20.0 in c:\\programdata\\anaconda3\\lib\\site-packages (from scikit-optimize) (0.23.2)\n",
            "Requirement already satisfied: scipy>=0.19.1 in c:\\programdata\\anaconda3\\lib\\site-packages (from scikit-optimize) (1.5.2)\n",
            "Requirement already satisfied: joblib>=0.11 in c:\\programdata\\anaconda3\\lib\\site-packages (from scikit-optimize) (0.17.0)\n",
            "Requirement already satisfied: PyYAML in c:\\programdata\\anaconda3\\lib\\site-packages (from pyaml>=16.9->scikit-optimize) (5.3.1)\n",
            "Requirement already satisfied: threadpoolctl>=2.0.0 in c:\\programdata\\anaconda3\\lib\\site-packages (from scikit-learn>=0.20.0->scikit-optimize) (2.1.0)\n"
          ]
        }
      ],
      "source": [
        "#import libraries\n",
        "import pandas as pd\n",
        "import numpy as np\n",
        "import matplotlib.pyplot as plt\n",
        "import nltk\n",
        "import string\n",
        "import re\n",
        "from nltk.tokenize import word_tokenize\n",
        "from nltk.corpus import stopwords\n",
        "from nltk.stem.snowball import SnowballStemmer\n",
        "from sklearn.feature_extraction.text import TfidfVectorizer\n",
        "from sklearn.model_selection import GridSearchCV, RandomizedSearchCV, PredefinedSplit\n",
        "from xgboost.sklearn import XGBClassifier\n",
        "from sklearn.ensemble import RandomForestClassifier\n",
        "from sklearn.linear_model import LogisticRegression\n",
        "from sklearn.model_selection import train_test_split\n",
        "from sklearn.pipeline import Pipeline\n",
        "!pip install scikit-optimize\n",
        "from skopt import BayesSearchCV"
      ]
    },
    {
      "cell_type": "code",
      "execution_count": null,
      "metadata": {
        "id": "ctLQmZhJvtad",
        "outputId": "5645f00d-4dcd-416f-f23a-47118caf1de0"
      },
      "outputs": [
        {
          "name": "stderr",
          "output_type": "stream",
          "text": [
            "[nltk_data] Downloading package punkt to\n",
            "[nltk_data]     C:\\Users\\LAB\\AppData\\Roaming\\nltk_data...\n",
            "[nltk_data]   Package punkt is already up-to-date!\n",
            "[nltk_data] Downloading package stopwords to\n",
            "[nltk_data]     C:\\Users\\LAB\\AppData\\Roaming\\nltk_data...\n",
            "[nltk_data]   Package stopwords is already up-to-date!\n",
            "[nltk_data] Downloading package wordnet to\n",
            "[nltk_data]     C:\\Users\\LAB\\AppData\\Roaming\\nltk_data...\n",
            "[nltk_data]   Package wordnet is already up-to-date!\n"
          ]
        },
        {
          "data": {
            "text/plain": [
              "True"
            ]
          },
          "execution_count": 69,
          "metadata": {},
          "output_type": "execute_result"
        }
      ],
      "source": [
        "#download punkt pakages from nltk library\n",
        "nltk.download('punkt')\n",
        "#download stopwords pakages from nltk library\n",
        "nltk.download('stopwords')\n",
        "#download wordnet pakages from nltk library\n",
        "nltk.download('wordnet')"
      ]
    },
    {
      "cell_type": "code",
      "execution_count": null,
      "metadata": {
        "id": "A6w5nlWOvtad"
      },
      "outputs": [],
      "source": [
        "#read the training data\n",
        "df = pd.read_csv('xy_train.csv')"
      ]
    },
    {
      "cell_type": "code",
      "execution_count": null,
      "metadata": {
        "id": "dH2-fkRTvtad",
        "outputId": "381fca7d-c2f0-42f5-e238-7d04cb49ead3"
      },
      "outputs": [
        {
          "data": {
            "text/html": [
              "<div>\n",
              "<style scoped>\n",
              "    .dataframe tbody tr th:only-of-type {\n",
              "        vertical-align: middle;\n",
              "    }\n",
              "\n",
              "    .dataframe tbody tr th {\n",
              "        vertical-align: top;\n",
              "    }\n",
              "\n",
              "    .dataframe thead th {\n",
              "        text-align: right;\n",
              "    }\n",
              "</style>\n",
              "<table border=\"1\" class=\"dataframe\">\n",
              "  <thead>\n",
              "    <tr style=\"text-align: right;\">\n",
              "      <th></th>\n",
              "      <th>id</th>\n",
              "      <th>text</th>\n",
              "      <th>label</th>\n",
              "    </tr>\n",
              "  </thead>\n",
              "  <tbody>\n",
              "    <tr>\n",
              "      <th>0</th>\n",
              "      <td>265723</td>\n",
              "      <td>A group of friends began to volunteer at a hom...</td>\n",
              "      <td>0</td>\n",
              "    </tr>\n",
              "    <tr>\n",
              "      <th>1</th>\n",
              "      <td>284269</td>\n",
              "      <td>British Prime Minister @Theresa_May on Nerve A...</td>\n",
              "      <td>0</td>\n",
              "    </tr>\n",
              "    <tr>\n",
              "      <th>2</th>\n",
              "      <td>207715</td>\n",
              "      <td>In 1961, Goodyear released a kit that allows P...</td>\n",
              "      <td>0</td>\n",
              "    </tr>\n",
              "    <tr>\n",
              "      <th>3</th>\n",
              "      <td>551106</td>\n",
              "      <td>Happy Birthday, Bob Barker! The Price Is Right...</td>\n",
              "      <td>0</td>\n",
              "    </tr>\n",
              "    <tr>\n",
              "      <th>4</th>\n",
              "      <td>8584</td>\n",
              "      <td>Obama to Nation: 聙\"Innocent Cops and Unarmed Y...</td>\n",
              "      <td>0</td>\n",
              "    </tr>\n",
              "  </tbody>\n",
              "</table>\n",
              "</div>"
            ],
            "text/plain": [
              "       id                                               text  label\n",
              "0  265723  A group of friends began to volunteer at a hom...      0\n",
              "1  284269  British Prime Minister @Theresa_May on Nerve A...      0\n",
              "2  207715  In 1961, Goodyear released a kit that allows P...      0\n",
              "3  551106  Happy Birthday, Bob Barker! The Price Is Right...      0\n",
              "4    8584  Obama to Nation: 聙\"Innocent Cops and Unarmed Y...      0"
            ]
          },
          "execution_count": 71,
          "metadata": {},
          "output_type": "execute_result"
        }
      ],
      "source": [
        "#display the first five rows \n",
        "df.head()"
      ]
    },
    {
      "cell_type": "code",
      "execution_count": null,
      "metadata": {
        "id": "zuoRHzLFvtae",
        "outputId": "c87f2410-afc8-466a-d697-52d2b06e6bcb"
      },
      "outputs": [
        {
          "data": {
            "text/plain": [
              "(60000, 3)"
            ]
          },
          "execution_count": 72,
          "metadata": {},
          "output_type": "execute_result"
        }
      ],
      "source": [
        "#display the dimension of the data\n",
        "df.shape"
      ]
    },
    {
      "cell_type": "code",
      "execution_count": null,
      "metadata": {
        "id": "sjfO-8xlvtae",
        "outputId": "9f9dea05-5807-4e1b-a30d-b0457218abe5"
      },
      "outputs": [
        {
          "data": {
            "text/plain": [
              "(60000, 3)"
            ]
          },
          "execution_count": 73,
          "metadata": {},
          "output_type": "execute_result"
        }
      ],
      "source": [
        "#drop duplicates but not found any duplicated rows\n",
        "df = df.drop_duplicates()\n",
        "df.shape"
      ]
    },
    {
      "cell_type": "code",
      "execution_count": null,
      "metadata": {
        "id": "kJwAveOOvtaf",
        "outputId": "1b7a7104-eaaa-4b7c-a9c8-d04c39212f07"
      },
      "outputs": [
        {
          "name": "stdout",
          "output_type": "stream",
          "text": [
            "id       0\n",
            "text     0\n",
            "label    0\n",
            "dtype: int64\n"
          ]
        }
      ],
      "source": [
        "#check null values\n",
        "print(df.isna().sum().sort_values())"
      ]
    },
    {
      "cell_type": "code",
      "execution_count": null,
      "metadata": {
        "id": "eRbU-gYTvtaf"
      },
      "outputs": [],
      "source": [
        "# some simple transformation (always make a copy before assigning)\n",
        "df2 = df.copy()"
      ]
    },
    {
      "cell_type": "code",
      "execution_count": null,
      "metadata": {
        "id": "B1sRBPP5vtaf"
      },
      "outputs": [],
      "source": [
        "#drop id column\n",
        "df = df.drop(['id'],axis=1)"
      ]
    },
    {
      "cell_type": "code",
      "execution_count": null,
      "metadata": {
        "id": "0wWahFsXvtag",
        "outputId": "e4c39254-075f-4361-dbbf-1ab4014ce6e3"
      },
      "outputs": [
        {
          "data": {
            "text/plain": [
              "text     59645\n",
              "label        3\n",
              "dtype: int64"
            ]
          },
          "execution_count": 77,
          "metadata": {},
          "output_type": "execute_result"
        }
      ],
      "source": [
        "#check number of classes in the label\n",
        "df.nunique()"
      ]
    },
    {
      "cell_type": "code",
      "execution_count": null,
      "metadata": {
        "id": "rWr8jdHbvtag",
        "outputId": "77a0a6d6-d2c7-4846-c0e8-69b58aa5aa20"
      },
      "outputs": [
        {
          "data": {
            "image/png": "[encoded data removed]",
            "text/plain": [
              "<Figure size 432x288 with 1 Axes>"
            ]
          },
          "metadata": {
            "needs_background": "light"
          },
          "output_type": "display_data"
        }
      ],
      "source": [
        "#show target classes \n",
        "plt.hist(df['label'])\n",
        "plt.show()"
      ]
    },
    {
      "cell_type": "markdown",
      "source": [
        "As show in the above figure there are label equal=2 and our label 0 or 1 only so i will drop it "
      ],
      "metadata": {
        "id": "XRtwbAoMF4ca"
      }
    },
    {
      "cell_type": "code",
      "execution_count": null,
      "metadata": {
        "id": "CLqJ2j3Ovtag"
      },
      "outputs": [],
      "source": [
        "#removing noisy data (label = 2) at label\n",
        "df = df[(df.label == 0) | (df.label == 1)]"
      ]
    },
    {
      "cell_type": "code",
      "execution_count": null,
      "metadata": {
        "id": "GRIsr8TGvtag",
        "outputId": "af491c58-d4d8-4831-ff7f-63da4b1b22ad"
      },
      "outputs": [
        {
          "data": {
            "image/png": "[encoded data removed]",
            "text/plain": [
              "<Figure size 432x288 with 1 Axes>"
            ]
          },
          "metadata": {
            "needs_background": "light"
          },
          "output_type": "display_data"
        }
      ],
      "source": [
        "#check balance of data after drop rows have value 2\n",
        "plt.hist(df['label'])\n",
        "plt.show()"
      ]
    },
    {
      "cell_type": "markdown",
      "source": [
        "As shown that the two classes are almost balanced"
      ],
      "metadata": {
        "id": "iwEdq3XKGEy5"
      }
    },
    {
      "cell_type": "code",
      "execution_count": null,
      "metadata": {
        "id": "CziFwEryvtah",
        "outputId": "70f52826-cdae-4c5b-9c18-e3342a3f0698"
      },
      "outputs": [
        {
          "data": {
            "text/plain": [
              "(59768, 2)"
            ]
          },
          "execution_count": 81,
          "metadata": {},
          "output_type": "execute_result"
        }
      ],
      "source": [
        "#check dimension of the data after dropping label 2\n",
        "df.shape"
      ]
    },
    {
      "cell_type": "code",
      "execution_count": null,
      "metadata": {
        "id": "wj-ezZ_Bvtah"
      },
      "outputs": [],
      "source": [
        "# call stemmer and stop wrods\n",
        "stemmer = SnowballStemmer(language='english')\n",
        "stop_words = set(stopwords.words(\"english\"))"
      ]
    },
    {
      "cell_type": "markdown",
      "source": [
        "By using stemmers and stop words, we can improve the accuracy and efficiency of text analysis algorithms, reduce the dimensionality of the feature space, and make the analysis more robust to variations in the text."
      ],
      "metadata": {
        "id": "hRqGa7JdIMUR"
      }
    },
    {
      "cell_type": "markdown",
      "source": [
        "**steps to clean the text:**\n",
        "\n",
        "convert all whitespaces (tabs etc.) to single wspace\n",
        "\n",
        "all lowercase\n",
        "\n",
        "remove stopwords, punctuation and stemm\n",
        "\n",
        "Keep only ASCII + European Chars and whitespace, no digits\n",
        "\n",
        "remove any html tags (< /br> often found)"
      ],
      "metadata": {
        "id": "sWOToZuLHScC"
      }
    },
    {
      "cell_type": "code",
      "execution_count": null,
      "metadata": {
        "id": "fxNVYRGPvtah"
      },
      "outputs": [],
      "source": [
        "#define a function to clean the tex\n",
        "def text_clean(text,for_embedding=True):#I will apply embedding \n",
        "    RE_WSPACE = re.compile(r\"\\s+\", re.IGNORECASE)\n",
        "    RE_TAGS = re.compile(r\"<[^>]+>\")\n",
        "    RE_ASCII = re.compile(r\"[^A-Za-zÀ-ž ]\", re.IGNORECASE)\n",
        "    RE_SINGLECHAR = re.compile(r\"\\b[A-Za-zÀ-ž]\\b\", re.IGNORECASE)    \n",
        "    text = text.lower()\n",
        "    if for_embedding:\n",
        "        # Keep punctuation\n",
        "        RE_ASCII = re.compile(r\"[^A-Za-zÀ-ž,.!? ]\", re.IGNORECASE)\n",
        "        RE_SINGLECHAR = re.compile(r\"\\b[A-Za-zÀ-ž,.!?]\\b\", re.IGNORECASE)\n",
        "\n",
        "    text = re.sub(RE_TAGS, \" \", text)\n",
        "    text = re.sub(RE_ASCII, \" \", text)\n",
        "    text = re.sub(RE_SINGLECHAR, \" \", text)\n",
        "    text = re.sub(RE_WSPACE, \" \", text)\n",
        "\n",
        "    word_tokens = word_tokenize(text)\n",
        "    words_tokens_lower = [word.lower() for word in word_tokens]\n",
        "\n",
        "    if for_embedding:\n",
        "        # no stemming, lowering and punctuation / stop words removal\n",
        "        words_filtered = word_tokens\n",
        "    else:#apply stemmer\n",
        "        words_filtered = [\n",
        "            stemmer.stem(word) for word in words_tokens_lower if word not in stop_words\n",
        "        ]\n",
        "\n",
        "    text_clean = \" \".join(words_filtered)\n",
        "    return text_clean"
      ]
    },
    {
      "cell_type": "code",
      "execution_count": null,
      "metadata": {
        "id": "jPCIMN5zvtai"
      },
      "outputs": [],
      "source": [
        "#apply the text cleaning function on on the text column\n",
        "df['text'] = df['text'].apply(text_clean)"
      ]
    },
    {
      "cell_type": "code",
      "execution_count": null,
      "metadata": {
        "id": "oY_cg0s5vtai",
        "outputId": "c7c60b9b-4b8e-43de-f803-17c3e9f11763"
      },
      "outputs": [
        {
          "data": {
            "text/html": [
              "<div>\n",
              "<style scoped>\n",
              "    .dataframe tbody tr th:only-of-type {\n",
              "        vertical-align: middle;\n",
              "    }\n",
              "\n",
              "    .dataframe tbody tr th {\n",
              "        vertical-align: top;\n",
              "    }\n",
              "\n",
              "    .dataframe thead th {\n",
              "        text-align: right;\n",
              "    }\n",
              "</style>\n",
              "<table border=\"1\" class=\"dataframe\">\n",
              "  <thead>\n",
              "    <tr style=\"text-align: right;\">\n",
              "      <th></th>\n",
              "      <th>text</th>\n",
              "      <th>label</th>\n",
              "    </tr>\n",
              "  </thead>\n",
              "  <tbody>\n",
              "    <tr>\n",
              "      <th>0</th>\n",
              "      <td>group of friends began to volunteer at homeles...</td>\n",
              "      <td>0</td>\n",
              "    </tr>\n",
              "    <tr>\n",
              "      <th>1</th>\n",
              "      <td>british prime minister theresa may on nerve at...</td>\n",
              "      <td>0</td>\n",
              "    </tr>\n",
              "    <tr>\n",
              "      <th>2</th>\n",
              "      <td>in , goodyear released kit that allows ps to b...</td>\n",
              "      <td>0</td>\n",
              "    </tr>\n",
              "    <tr>\n",
              "      <th>3</th>\n",
              "      <td>happy birthday , bob barker ! the price is rig...</td>\n",
              "      <td>0</td>\n",
              "    </tr>\n",
              "    <tr>\n",
              "      <th>4</th>\n",
              "      <td>obama to nation innocent cops and unarmed youn...</td>\n",
              "      <td>0</td>\n",
              "    </tr>\n",
              "  </tbody>\n",
              "</table>\n",
              "</div>"
            ],
            "text/plain": [
              "                                                text  label\n",
              "0  group of friends began to volunteer at homeles...      0\n",
              "1  british prime minister theresa may on nerve at...      0\n",
              "2  in , goodyear released kit that allows ps to b...      0\n",
              "3  happy birthday , bob barker ! the price is rig...      0\n",
              "4  obama to nation innocent cops and unarmed youn...      0"
            ]
          },
          "execution_count": 85,
          "metadata": {},
          "output_type": "execute_result"
        }
      ],
      "source": [
        "#print the first five rows after clearning\n",
        "df.head()"
      ]
    },
    {
      "cell_type": "code",
      "execution_count": null,
      "metadata": {
        "id": "axB3961zvtai"
      },
      "outputs": [],
      "source": [
        "#assign the text to X and target label to y\n",
        "X = df['text']\n",
        "y = df['label']"
      ]
    },
    {
      "cell_type": "markdown",
      "source": [
        "#first trial"
      ],
      "metadata": {
        "id": "s1h29QqOxWyZ"
      }
    },
    {
      "cell_type": "code",
      "execution_count": null,
      "metadata": {
        "id": "FZdq2fitvtaj",
        "outputId": "176c0549-468c-469c-eb8e-e51272664cc2"
      },
      "outputs": [
        {
          "name": "stdout",
          "output_type": "stream",
          "text": [
            "Fitting 5 folds for each of 10 candidates, totalling 50 fits\n"
          ]
        },
        {
          "name": "stderr",
          "output_type": "stream",
          "text": [
            "[Parallel(n_jobs=2)]: Using backend LokyBackend with 2 concurrent workers.\n",
            "[Parallel(n_jobs=2)]: Done  46 tasks      | elapsed: 73.5min\n",
            "[Parallel(n_jobs=2)]: Done  50 out of  50 | elapsed: 80.7min finished\n"
          ]
        },
        {
          "name": "stdout",
          "output_type": "stream",
          "text": [
            "Best_score = 0.8455405578791154\n",
            "Best_params = {'xgb__n_estimators': 800, 'xgb__max_depth': 11, 'xgb__learning_rate': 0.02}\n"
          ]
        }
      ],
      "source": [
        "pipe_xgb =  Pipeline([(\"vectorizer\",TfidfVectorizer(analyzer=\"word\", max_df=0.6, min_df=10, ngram_range=(1, 2))),\n",
        "                      (\"xgb\", XGBClassifier())])\n",
        "params = {\n",
        "          'xgb__n_estimators': [700,800,900],\n",
        "          'xgb__max_depth':[9,10,11],\n",
        "          'xgb__learning_rate' :[0.01,0.02]\n",
        "          }\n",
        "random_search  = RandomizedSearchCV(\n",
        "    pipe_xgb, params, cv=5, verbose=1, n_jobs=2, \n",
        "    scoring='roc_auc')\n",
        "#fit X and y\n",
        "random_search.fit(X,y)\n",
        "#print best score\n",
        "print(f'Best_score = {random_search.best_score_}')\n",
        "#print best Params\n",
        "print(f'Best_params = {random_search.best_params_}')"
      ]
    },
    {
      "cell_type": "markdown",
      "source": [
        "observations\n",
        "\n",
        "in this trial I used TFIDF(word), XGBClassifier Model and used random search for tuning hyperparameters and it consumed about one hour and the best were ['model__learning_rate': 0.02, 'model__max_depth': 11, 'model__n_estimators': 800] I used  cross validation set cv=5 it was found that: best score 0.8455\n",
        "score on leaderboard 0.81223 Public"
      ],
      "metadata": {
        "id": "_cjrSAAAY3_N"
      }
    },
    {
      "cell_type": "markdown",
      "source": [
        "#second trial"
      ],
      "metadata": {
        "id": "0_OTkAGpy6jP"
      }
    },
    {
      "cell_type": "code",
      "execution_count": null,
      "metadata": {
        "id": "qQfIO6eLvtaj",
        "outputId": "d29455df-d310-4d7e-ea84-bc1b04f98a1f"
      },
      "outputs": [
        {
          "name": "stderr",
          "output_type": "stream",
          "text": [
            "C:\\ProgramData\\Anaconda3\\lib\\site-packages\\sklearn\\model_selection\\_search.py:278: UserWarning: The total space of parameters 9 is smaller than n_iter=10. Running 9 iterations. For exhaustive searches, use GridSearchCV.\n",
            "  warnings.warn(\n",
            "[Parallel(n_jobs=2)]: Using backend LokyBackend with 2 concurrent workers.\n"
          ]
        },
        {
          "name": "stdout",
          "output_type": "stream",
          "text": [
            "Fitting 5 folds for each of 9 candidates, totalling 45 fits\n"
          ]
        },
        {
          "name": "stderr",
          "output_type": "stream",
          "text": [
            "[Parallel(n_jobs=2)]: Done  45 out of  45 | elapsed: 10.7min finished\n"
          ]
        },
        {
          "name": "stdout",
          "output_type": "stream",
          "text": [
            "Best_score = 0.830329379594895\n",
            "Best_params = {'randm_forest__n_estimators': 900, 'randm_forest__max_depth': 30}\n"
          ]
        }
      ],
      "source": [
        "pipe_xgb =  Pipeline([(\"vectorizer\",TfidfVectorizer(analyzer=\"word\", max_df=0.6, min_df=10, ngram_range=(1, 2))),\n",
        "                      (\"randm_forest\", RandomForestClassifier())])\n",
        "params = {\n",
        "          'randm_forest__n_estimators': [700,800,900],\n",
        "          'randm_forest__max_depth':[10,20,30]\n",
        "          }\n",
        "random_search  = RandomizedSearchCV(\n",
        "    pipe_xgb, params, cv=5, verbose=1, n_jobs=2, \n",
        "    scoring='roc_auc')\n",
        "#fit X and y\n",
        "random_search.fit(X,y)\n",
        "#print best score\n",
        "print(f'Best_score = {random_search.best_score_}')\n",
        "#print best Params\n",
        "print(f'Best_params = {random_search.best_params_}')"
      ]
    },
    {
      "cell_type": "markdown",
      "source": [
        "observations\n",
        "\n",
        "in this trial I used TFIDF(word), RandomForestClassifier Model and used random search for tuning hyperparameters and it consumed about half hour and the best were ['model__max_depth': 30, 'model__n_estimators': 900] I used cross validation set cv=5 it was found that: best score 0.8303\n",
        "score on leaderboard 0.81988 Public"
      ],
      "metadata": {
        "id": "fCV84jr4aA1c"
      }
    },
    {
      "cell_type": "markdown",
      "source": [
        "#third trial"
      ],
      "metadata": {
        "id": "vwN1U3FfzC-X"
      }
    },
    {
      "cell_type": "code",
      "execution_count": null,
      "metadata": {
        "id": "S3hXajravtaj",
        "outputId": "6bcb7588-bf86-4e59-9991-c4fed7f82260"
      },
      "outputs": [
        {
          "name": "stdout",
          "output_type": "stream",
          "text": [
            "Fitting 5 folds for each of 10 candidates, totalling 50 fits\n"
          ]
        },
        {
          "name": "stderr",
          "output_type": "stream",
          "text": [
            "[Parallel(n_jobs=2)]: Using backend LokyBackend with 2 concurrent workers.\n",
            "[Parallel(n_jobs=2)]: Done  46 tasks      | elapsed:  1.2min\n",
            "[Parallel(n_jobs=2)]: Done  50 out of  50 | elapsed:  1.3min finished\n"
          ]
        },
        {
          "name": "stdout",
          "output_type": "stream",
          "text": [
            "Best_score = 0.8871007259119235\n",
            "Best_params = {'log_reg__solver': 'newton-cg', 'log_reg__penalty': 'l2', 'log_reg__class_weight': 'balanced', 'log_reg__C': 1.6}\n"
          ]
        }
      ],
      "source": [
        "pipe_xgb =  Pipeline([(\"vectorizer\",TfidfVectorizer(analyzer=\"word\", max_df=0.6, min_df=10, ngram_range=(1, 2))),\n",
        "                      (\"log_reg\", LogisticRegression())])\n",
        "params = {\n",
        "          'log_reg__penalty': ['l2'],\n",
        "          'log_reg__C' : [0.6,0.9,1,1.3,1.4,1.6],\n",
        "          'log_reg__class_weight': ['balanced',None],\n",
        "          'log_reg__solver': ['newton-cg', 'lbfgs', 'liblinear', 'sag', 'saga']\n",
        "          }\n",
        "random_search  = RandomizedSearchCV(\n",
        "    pipe_xgb, params, cv=5, verbose=1, n_jobs=2, \n",
        "    scoring='roc_auc')\n",
        "#fit X and y\n",
        "random_search.fit(X,y)\n",
        "#print best score\n",
        "print(f'Best_score = {random_search.best_score_}')\n",
        "#print best Params\n",
        "print(f'Best_params = {random_search.best_params_}')"
      ]
    },
    {
      "cell_type": "markdown",
      "source": [
        "observations\n",
        "\n",
        "in this trial I used TFIDF(word), LogisticRegression Model and used random search for tuning hyperparameters and it consumed about half hour and the best were ['log_reg__solver': newton-cg, 'log_reg__penalty': 'l2','log_reg__class_weight': 'balanced', 'log_reg__C': 1.6] I used cross validation set cv=5 it was found that: best score 0.8871\n",
        "score on leaderboard 0.86019 Public"
      ],
      "metadata": {
        "id": "PIBxD1vacr8d"
      }
    },
    {
      "cell_type": "markdown",
      "source": [
        "#fourth trial"
      ],
      "metadata": {
        "id": "1uKx1XufzHau"
      }
    },
    {
      "cell_type": "code",
      "execution_count": null,
      "metadata": {
        "id": "cjWgRXJxvtaj",
        "outputId": "d9905780-7d08-437b-d5a0-7fb03085df7d"
      },
      "outputs": [
        {
          "name": "stdout",
          "output_type": "stream",
          "text": [
            "Fitting 5 folds for each of 10 candidates, totalling 50 fits\n"
          ]
        },
        {
          "name": "stderr",
          "output_type": "stream",
          "text": [
            "[Parallel(n_jobs=2)]: Using backend LokyBackend with 2 concurrent workers.\n",
            "[Parallel(n_jobs=2)]: Done  46 tasks      | elapsed:  7.9min\n",
            "[Parallel(n_jobs=2)]: Done  50 out of  50 | elapsed:  8.5min finished\n"
          ]
        },
        {
          "name": "stdout",
          "output_type": "stream",
          "text": [
            "Best_score = 0.8871447630883649\n",
            "Best_params = {'log_reg__solver': 'lbfgs', 'log_reg__penalty': 'l2', 'log_reg__C': 1.6}\n"
          ]
        },
        {
          "name": "stderr",
          "output_type": "stream",
          "text": [
            "C:\\ProgramData\\Anaconda3\\lib\\site-packages\\sklearn\\linear_model\\_logistic.py:762: ConvergenceWarning: lbfgs failed to converge (status=1):\n",
            "STOP: TOTAL NO. of ITERATIONS REACHED LIMIT.\n",
            "\n",
            "Increase the number of iterations (max_iter) or scale the data as shown in:\n",
            "    https://scikit-learn.org/stable/modules/preprocessing.html\n",
            "Please also refer to the documentation for alternative solver options:\n",
            "    https://scikit-learn.org/stable/modules/linear_model.html#logistic-regression\n",
            "  n_iter_i = _check_optimize_result(\n"
          ]
        }
      ],
      "source": [
        "pipe_xgb =  Pipeline([(\"vectorizer\",TfidfVectorizer(analyzer=\"char\", max_df=0.6, min_df=10, ngram_range=(3, 5))),\n",
        "                      (\"log_reg\", LogisticRegression())])\n",
        "params = {\n",
        "          'log_reg__penalty': ['l2'],\n",
        "          'log_reg__C' : [0.6,0.9,1,1.3,1.4,1.6],\n",
        "          'log_reg__solver': ['newton-cg', 'lbfgs', 'liblinear', 'sag', 'saga']\n",
        "          }\n",
        "random_search  = RandomizedSearchCV(\n",
        "    pipe_xgb, params, cv=5, verbose=1, n_jobs=2, \n",
        "    scoring='roc_auc')\n",
        "#fit X and y\n",
        "random_search.fit(X,y)\n",
        "#print best score\n",
        "print(f'Best_score = {random_search.best_score_}')\n",
        "#print best Params\n",
        "print(f'Best_params = {random_search.best_params_}')"
      ]
    },
    {
      "cell_type": "markdown",
      "source": [
        "observations\n",
        "\n",
        "in this trial I used TFIDF(character), LogisticRegression Model and used random search for tuning hyperparameters in addition i changed the hyperparameters from the previous trial and it consumed about quarter hour and the best were ['log_reg__solver': Ibfgs, 'log_reg__penalty': 'l2', 'log_reg__C': 1.6] I used cross validation set cv=5 it was found that: best score 0.8871\n",
        "score on leaderboard 0.84794 Public"
      ],
      "metadata": {
        "id": "nu8VOQPSdxUL"
      }
    },
    {
      "cell_type": "markdown",
      "source": [
        "#fifth trial"
      ],
      "metadata": {
        "id": "BoTuZFm0zVB_"
      }
    },
    {
      "cell_type": "code",
      "execution_count": null,
      "metadata": {
        "id": "wcEeqAhavtak"
      },
      "outputs": [],
      "source": [
        "#split the data into train and test\n",
        "X_train, X_val, y_train, y_val = train_test_split(X, y, test_size=0.1, stratify = y, random_state=42)"
      ]
    },
    {
      "cell_type": "code",
      "execution_count": null,
      "metadata": {
        "id": "t09HZUVevtak"
      },
      "outputs": [],
      "source": [
        "# Create a list where train data indices are -1 and validation data indices are 0\n",
        "# X_train (new training set), X\n",
        "split_index = [-1 if x in X_train.index else 0 for x in X.index]\n",
        "# Use the list to create PredefinedSplit\n",
        "pds = PredefinedSplit(test_fold = split_index)"
      ]
    },
    {
      "cell_type": "code",
      "execution_count": null,
      "metadata": {
        "id": "wjpK64G4vtak",
        "outputId": "e041b371-3e86-4678-8be8-3e7027df9b7d"
      },
      "outputs": [
        {
          "name": "stdout",
          "output_type": "stream",
          "text": [
            "Fitting 1 folds for each of 10 candidates, totalling 10 fits\n"
          ]
        },
        {
          "name": "stderr",
          "output_type": "stream",
          "text": [
            "[Parallel(n_jobs=2)]: Using backend LokyBackend with 2 concurrent workers.\n",
            "[Parallel(n_jobs=2)]: Done  10 out of  10 | elapsed:   15.1s finished\n"
          ]
        },
        {
          "name": "stdout",
          "output_type": "stream",
          "text": [
            "Best_score = 0.8892387717782099\n",
            "Best_params = {'log_reg__solver': 'lbfgs', 'log_reg__penalty': 'l2', 'log_reg__C': 1.4}\n"
          ]
        },
        {
          "name": "stderr",
          "output_type": "stream",
          "text": [
            "C:\\ProgramData\\Anaconda3\\lib\\site-packages\\sklearn\\linear_model\\_logistic.py:762: ConvergenceWarning: lbfgs failed to converge (status=1):\n",
            "STOP: TOTAL NO. of ITERATIONS REACHED LIMIT.\n",
            "\n",
            "Increase the number of iterations (max_iter) or scale the data as shown in:\n",
            "    https://scikit-learn.org/stable/modules/preprocessing.html\n",
            "Please also refer to the documentation for alternative solver options:\n",
            "    https://scikit-learn.org/stable/modules/linear_model.html#logistic-regression\n",
            "  n_iter_i = _check_optimize_result(\n"
          ]
        }
      ],
      "source": [
        "pipe_xgb =  Pipeline([(\"vectorizer\",TfidfVectorizer(analyzer=\"word\", max_df=0.6, min_df=10, ngram_range=(1, 2))),\n",
        "                      (\"log_reg\", LogisticRegression())])\n",
        "params = {\n",
        "          'log_reg__penalty': ['l2'],\n",
        "          'log_reg__C' : [0.5,0.8,1,1.2,1.4],\n",
        "          'log_reg__solver': ['newton-cg', 'lbfgs', 'saga']\n",
        "          }\n",
        "random_search  = RandomizedSearchCV(\n",
        "    pipe_xgb, params, cv=pds, verbose=1, n_jobs=2, \n",
        "    scoring='roc_auc')\n",
        "#fit X and y\n",
        "random_search.fit(X,y)\n",
        "#print best score\n",
        "print(f'Best_score = {random_search.best_score_}')\n",
        "#print best Params\n",
        "print(f'Best_params = {random_search.best_params_}')"
      ]
    },
    {
      "cell_type": "markdown",
      "source": [
        "observations\n",
        "\n",
        "in this trial I used TFIDF(word), LogisticRegression Model and used random search for tuning hyperparameters in addition i changed the hyperparameters from the third trial and it consumed about quarter hour and the best were ['log_reg__solver': Ibfgs, 'log_reg__penalty': 'l2', 'log_reg__C': 1.4] I split the data and used validation set to tune the hyperparameters it was found that: best score 0.8892\n",
        "score on leaderboard 0.86051 Public "
      ],
      "metadata": {
        "id": "qOyXTqxRiek6"
      }
    },
    {
      "cell_type": "markdown",
      "source": [
        "#summary\n",
        "\n",
        "in the five trials i used three different model logistic regression, random forest and xgboost, in all trials i used random search to save the time for searsing before using random search i tried grid search and bayesian search with xgboost in the first trial but i had to stop execution because i could not get any result though more than four hours, therefore i decided to use random search ony with different algrithms and hyperparameters.\n",
        "\n",
        "in addition in the first four trials i used cross validation and in the last i used splitted the data and used validation set \n",
        "\n",
        "according to the above trials the best model was logistic regression in three and five it got about 86% on leaderboard"
      ],
      "metadata": {
        "id": "hETQGuzTnppO"
      }
    },
    {
      "cell_type": "code",
      "execution_count": null,
      "metadata": {
        "id": "5-4KI_Z8vtak"
      },
      "outputs": [],
      "source": [
        "data_test = pd.read_csv('x_test.csv')"
      ]
    },
    {
      "cell_type": "code",
      "execution_count": null,
      "metadata": {
        "id": "38ssdY7gvtak",
        "outputId": "5cf5970c-6b77-450d-d0ea-84b2f37fcaf0"
      },
      "outputs": [
        {
          "data": {
            "text/plain": [
              "(59151, 2)"
            ]
          },
          "execution_count": 115,
          "metadata": {},
          "output_type": "execute_result"
        }
      ],
      "source": [
        "data_test.shape"
      ]
    },
    {
      "cell_type": "code",
      "execution_count": null,
      "metadata": {
        "id": "6hY0MyxBvtal"
      },
      "outputs": [],
      "source": [
        "data_test['text'] = data_test['text'].apply(text_clean)"
      ]
    },
    {
      "cell_type": "code",
      "execution_count": null,
      "metadata": {
        "id": "KyyLhG-avtal"
      },
      "outputs": [],
      "source": [
        "submission = pd.DataFrame()\n",
        "\n",
        "submission['id'] = data_test['id']\n",
        "\n",
        "submission['label'] = random_search.predict_proba(data_test['text'])[:,1]\n",
        "\n",
        "submission.to_csv('sample_submission_walkthrough5.csv', index=False)"
      ]
    }
  ],
  "metadata": {
    "kernelspec": {
      "display_name": "Python 3",
      "language": "python",
      "name": "python3"
    },
    "language_info": {
      "codemirror_mode": {
        "name": "ipython",
        "version": 3
      },
      "file_extension": ".py",
      "mimetype": "text/x-python",
      "name": "python",
      "nbconvert_exporter": "python",
      "pygments_lexer": "ipython3",
      "version": "3.8.5"
    },
    "colab": {
      "provenance": [],
      "collapsed_sections": [
        "UEEtXk35wBlK",
        "s1h29QqOxWyZ",
        "0_OTkAGpy6jP",
        "vwN1U3FfzC-X",
        "1uKx1XufzHau",
        "BoTuZFm0zVB_"
      ]
    }
  },
  "nbformat": 4,
  "nbformat_minor": 0
}